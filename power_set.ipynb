{
 "metadata": {
  "language_info": {
   "codemirror_mode": {
    "name": "ipython",
    "version": 3
   },
   "file_extension": ".py",
   "mimetype": "text/x-python",
   "name": "python",
   "nbconvert_exporter": "python",
   "pygments_lexer": "ipython3",
   "version": "3.8.6-final"
  },
  "orig_nbformat": 2,
  "kernelspec": {
   "name": "python3",
   "display_name": "Python 3"
  }
 },
 "nbformat": 4,
 "nbformat_minor": 2,
 "cells": [
  {
   "source": [
    "### Power Set\n",
    "\n",
    "Power Set Power set P(S) of a set S is the set of all subsets of S. For example S = {a, b, c} then P(s) = {{}, {a}, {b}, {c}, {a,b}, {a, c}, {b, c}, {a, b, c}}.\n",
    "\n",
    "If S has n elements in it then P(s) will have 2^n elements\n",
    "\n",
    "Counting all subsets:"
   ],
   "cell_type": "markdown",
   "metadata": {}
  },
  {
   "cell_type": "code",
   "execution_count": 1,
   "metadata": {},
   "outputs": [],
   "source": [
    "import math; \n",
    "bucket = []\n",
    "\n",
    "def printPowerSet(set1,set_size): \n",
    "      \n",
    "    # set_size of power set of a set \n",
    "    # with set_size n is (2**n -1) \n",
    "    pow_set_size = (int) (math.pow(2, set_size)); \n",
    "    counter = 0; \n",
    "    j = 0; \n",
    "      \n",
    "    # Run from counter 000..0 to 111..1 \n",
    "    for counter in range(0, pow_set_size):\n",
    "        strr = \"\" \n",
    "        for j in range(0, set_size): \n",
    "            # Check if jth bit in the  \n",
    "            # counter is set If set then  \n",
    "            # print jth element from set  \n",
    "            if((counter & (1 << j)) > 0):\n",
    "                # bucket3.append(set1[j])\n",
    "                strr += set1[j]\n",
    "                # print(set1[j], end = \"\"); \n",
    "        # print(\"\"); \n",
    "        bucket.append(strr)\n",
    "  \n",
    "# Driver program to test printPowerSet \n",
    "# set1 = ['a', 'b', 'c']; \n",
    "# printPowerSet(set1, 3);\n",
    "\n",
    "set1 = ['1', '2', '3', '4', '5', '6', '7', '8', '9']; \n",
    "printPowerSet(set1, 9); "
   ]
  },
  {
   "cell_type": "code",
   "execution_count": 3,
   "metadata": {},
   "outputs": [
    {
     "output_type": "execute_result",
     "data": {
      "text/plain": [
       "512"
      ]
     },
     "metadata": {},
     "execution_count": 3
    }
   ],
   "source": [
    "len(bucket)"
   ]
  },
  {
   "cell_type": "code",
   "execution_count": null,
   "metadata": {},
   "outputs": [],
   "source": []
  }
 ]
}