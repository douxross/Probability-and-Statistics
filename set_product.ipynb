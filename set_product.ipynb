{
 "metadata": {
  "language_info": {
   "codemirror_mode": {
    "name": "ipython",
    "version": 3
   },
   "file_extension": ".py",
   "mimetype": "text/x-python",
   "name": "python",
   "nbconvert_exporter": "python",
   "pygments_lexer": "ipython3",
   "version": "3.8.6-final"
  },
  "orig_nbformat": 2,
  "kernelspec": {
   "name": "python3",
   "display_name": "Python 3"
  }
 },
 "nbformat": 4,
 "nbformat_minor": 2,
 "cells": [
  {
   "cell_type": "code",
   "execution_count": 162,
   "metadata": {},
   "outputs": [],
   "source": [
    "from itertools import permutations\n",
    "from itertools import filterfalse\n",
    "import numpy as np"
   ]
  },
  {
   "cell_type": "code",
   "execution_count": 342,
   "metadata": {
    "tags": []
   },
   "outputs": [],
   "source": [
    "all_5dig = permutations(range(0,10), 5)\n",
    "list_5dig = list(list_5dig)[3024:]"
   ]
  },
  {
   "cell_type": "code",
   "execution_count": 259,
   "metadata": {},
   "outputs": [],
   "source": [
    "even = filterfalse(lambda x : x % 2 == 0, [int(''.join(str(i).strip(f\"(,)\").replace(',', '').replace(' ', ''))) for i in list_5dig])"
   ]
  },
  {
   "cell_type": "code",
   "execution_count": 260,
   "metadata": {},
   "outputs": [
    {
     "output_type": "execute_result",
     "data": {
      "text/plain": [
       "13440"
      ]
     },
     "metadata": {},
     "execution_count": 260
    }
   ],
   "source": [
    "len(list(even))"
   ]
  },
  {
   "cell_type": "code",
   "execution_count": 148,
   "metadata": {},
   "outputs": [
    {
     "output_type": "execute_result",
     "data": {
      "text/plain": [
       "15120"
      ]
     },
     "metadata": {},
     "execution_count": 148
    }
   ],
   "source": [
    "len(list(even))"
   ]
  },
  {
   "cell_type": "code",
   "execution_count": 171,
   "metadata": {},
   "outputs": [
    {
     "output_type": "execute_result",
     "data": {
      "text/plain": [
       "[]"
      ]
     },
     "metadata": {},
     "execution_count": 171
    }
   ],
   "source": [
    "list(even)[0:10]"
   ]
  },
  {
   "cell_type": "code",
   "execution_count": 266,
   "metadata": {},
   "outputs": [],
   "source": [
    "d_7 = filterfalse(lambda x : '7' not in x, [''.join(str(i).strip(f\"(,)\").replace(',', '').replace(' ', '')) for i in list_5dig])\n",
    "d_8 = filterfalse(lambda x : '8' not in x, [''.join(str(i).strip(f\"(,)\").replace(',', '').replace(' ', '')) for i in list_5dig])"
   ]
  },
  {
   "cell_type": "code",
   "execution_count": 267,
   "metadata": {},
   "outputs": [
    {
     "output_type": "execute_result",
     "data": {
      "text/plain": [
       "27552"
      ]
     },
     "metadata": {},
     "execution_count": 267
    }
   ],
   "source": [
    "sep_78 = len(list(d_7)) + len(list(d_8))\n",
    "sep_78"
   ]
  },
  {
   "cell_type": "code",
   "execution_count": 268,
   "metadata": {},
   "outputs": [],
   "source": [
    "d_78 = filterfalse(lambda x : '78' not in x, [''.join(str(i).strip(f\"(,)\").replace(',', '').replace(' ', '')) for i in list_5dig])\n",
    "d_87 = filterfalse(lambda x : '87' not in x, [''.join(str(i).strip(f\"(,)\").replace(',', '').replace(' ', '')) for i in list_5dig])"
   ]
  },
  {
   "cell_type": "code",
   "execution_count": 269,
   "metadata": {},
   "outputs": [
    {
     "output_type": "execute_result",
     "data": {
      "text/plain": [
       "2436"
      ]
     },
     "metadata": {},
     "execution_count": 269
    }
   ],
   "source": [
    "both_78 = len(list(d_78)) + len(list(d_87))\n",
    "both_78"
   ]
  },
  {
   "cell_type": "code",
   "execution_count": 270,
   "metadata": {
    "tags": []
   },
   "outputs": [
    {
     "output_type": "execute_result",
     "data": {
      "text/plain": [
       "25116"
      ]
     },
     "metadata": {},
     "execution_count": 270
    }
   ],
   "source": [
    "sep_78 - both_78"
   ]
  },
  {
   "cell_type": "code",
   "execution_count": 153,
   "metadata": {},
   "outputs": [
    {
     "output_type": "execute_result",
     "data": {
      "text/plain": [
       "100000"
      ]
     },
     "metadata": {},
     "execution_count": 153
    }
   ],
   "source": [
    "10**5"
   ]
  },
  {
   "cell_type": "code",
   "execution_count": 154,
   "metadata": {},
   "outputs": [],
   "source": [
    "test = (list_5dig[-1])"
   ]
  },
  {
   "cell_type": "code",
   "execution_count": 155,
   "metadata": {},
   "outputs": [
    {
     "output_type": "stream",
     "name": "stdout",
     "text": [
      "98765\n"
     ]
    }
   ],
   "source": [
    "print(''.join(str(i).strip(f\"(,)\").replace(',', '').replace(' ', '')))"
   ]
  },
  {
   "cell_type": "code",
   "execution_count": 156,
   "metadata": {},
   "outputs": [
    {
     "output_type": "execute_result",
     "data": {
      "text/plain": [
       "'01234'"
      ]
     },
     "metadata": {},
     "execution_count": 156
    }
   ],
   "source": [
    "[''.join(str(i).strip(f\"(,)\").replace(',', '').replace(' ', '')) for i in list_5dig][0]"
   ]
  },
  {
   "cell_type": "code",
   "execution_count": 315,
   "metadata": {},
   "outputs": [],
   "source": [
    "palindromes = filterfalse(lambda x : x[:3] == x[:3], [''.join(str(i).replace(',', '').replace(' ', '').strip('(,)')) for i in list_5dig])"
   ]
  },
  {
   "cell_type": "code",
   "execution_count": 316,
   "metadata": {},
   "outputs": [
    {
     "output_type": "execute_result",
     "data": {
      "text/plain": [
       "[]"
      ]
     },
     "metadata": {},
     "execution_count": 316
    }
   ],
   "source": [
    "list(palindromes)[:10]"
   ]
  },
  {
   "cell_type": "code",
   "execution_count": 288,
   "metadata": {},
   "outputs": [
    {
     "output_type": "execute_result",
     "data": {
      "text/plain": [
       "True"
      ]
     },
     "metadata": {},
     "execution_count": 288
    }
   ],
   "source": [
    "x[:3] in x[:3]"
   ]
  },
  {
   "cell_type": "code",
   "execution_count": 447,
   "metadata": {},
   "outputs": [],
   "source": [
    "list_5no0 = filterfalse(lambda x : x[0] == '0', [''.join(str(i).replace(',', '').replace(' ', '').strip('(,)')) for i in product(range(0,10), repeat=5)])\n",
    "palindromes = filterfalse(lambda x : x[:3] != x[2:], list_5no0)"
   ]
  },
  {
   "cell_type": "code",
   "execution_count": 448,
   "metadata": {},
   "outputs": [
    {
     "output_type": "execute_result",
     "data": {
      "text/plain": [
       "90"
      ]
     },
     "metadata": {},
     "execution_count": 448
    }
   ],
   "source": [
    "len(list(palindromes))"
   ]
  },
  {
   "cell_type": "code",
   "execution_count": 25,
   "metadata": {},
   "outputs": [],
   "source": [
    "# \n",
    "from itertools import product\n",
    "from itertools import filterfalse\n",
    "palindromes = []\n",
    "temp = []\n",
    "list_5no0 = list(filterfalse(lambda x : x[0] == '0', [''.join(str(i).replace(',', '').replace(' ', '').strip('(,)')) for i in product(range(0,10), repeat=5)]))\n",
    "palindromes_1 = filterfalse(lambda x : x != x[::-1], list_5no0)\n",
    "palindromes += palindromes_1\n",
    "# temp.append(list(palindromes_1))"
   ]
  },
  {
   "cell_type": "code",
   "execution_count": 26,
   "metadata": {},
   "outputs": [
    {
     "output_type": "execute_result",
     "data": {
      "text/plain": [
       "900"
      ]
     },
     "metadata": {},
     "execution_count": 26
    }
   ],
   "source": [
    "len(palindromes)"
   ]
  },
  {
   "cell_type": "code",
   "execution_count": 27,
   "metadata": {},
   "outputs": [
    {
     "output_type": "execute_result",
     "data": {
      "text/plain": [
       "400"
      ]
     },
     "metadata": {},
     "execution_count": 27
    }
   ],
   "source": [
    "even = [i for i in palindromes if int(i)%2 == 0]\n",
    "len(even)"
   ]
  },
  {
   "cell_type": "code",
   "execution_count": 32,
   "metadata": {},
   "outputs": [
    {
     "output_type": "execute_result",
     "data": {
      "text/plain": [
       "452"
      ]
     },
     "metadata": {},
     "execution_count": 32
    }
   ],
   "source": [
    "# 7 or 8 in palendromes\n",
    "len([i for i in palindromes if '7' in i or '8' in i])"
   ]
  },
  {
   "cell_type": "code",
   "execution_count": null,
   "metadata": {},
   "outputs": [],
   "source": []
  }
 ]
}