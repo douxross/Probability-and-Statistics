{
 "metadata": {
  "language_info": {
   "codemirror_mode": {
    "name": "ipython",
    "version": 3
   },
   "file_extension": ".py",
   "mimetype": "text/x-python",
   "name": "python",
   "nbconvert_exporter": "python",
   "pygments_lexer": "ipython3",
   "version": "3.8.6-final"
  },
  "orig_nbformat": 2,
  "kernelspec": {
   "name": "python3",
   "display_name": "Python 3"
  }
 },
 "nbformat": 4,
 "nbformat_minor": 2,
 "cells": [
  {
   "cell_type": "code",
   "execution_count": 1,
   "metadata": {},
   "outputs": [],
   "source": [
    "from itertools import permutations\n",
    "from itertools import filterfalse\n",
    "import numpy as np\n",
    "import string\n",
    "from itertools import product\n",
    "from itertools import filterfalse\n",
    "import itertools "
   ]
  },
  {
   "cell_type": "code",
   "execution_count": null,
   "metadata": {
    "tags": []
   },
   "outputs": [],
   "source": [
    "all_5dig = permutations(range(0,10), 5)\n",
    "list_5dig = list(list_5dig)[3024:]"
   ]
  },
  {
   "cell_type": "code",
   "execution_count": null,
   "metadata": {},
   "outputs": [],
   "source": [
    "even = filterfalse(lambda x : x % 2 == 0, [int(''.join(str(i).strip(f\"(,)\").replace(',', '').replace(' ', ''))) for i in list_5dig])"
   ]
  },
  {
   "cell_type": "code",
   "execution_count": null,
   "metadata": {},
   "outputs": [],
   "source": [
    "len(list(even))"
   ]
  },
  {
   "cell_type": "code",
   "execution_count": null,
   "metadata": {},
   "outputs": [],
   "source": [
    "len(list(even))"
   ]
  },
  {
   "cell_type": "code",
   "execution_count": null,
   "metadata": {},
   "outputs": [],
   "source": [
    "list(even)[0:10]"
   ]
  },
  {
   "cell_type": "code",
   "execution_count": null,
   "metadata": {},
   "outputs": [],
   "source": [
    "d_7 = filterfalse(lambda x : '7' not in x, [''.join(str(i).strip(f\"(,)\").replace(',', '').replace(' ', '')) for i in list_5dig])\n",
    "d_8 = filterfalse(lambda x : '8' not in x, [''.join(str(i).strip(f\"(,)\").replace(',', '').replace(' ', '')) for i in list_5dig])"
   ]
  },
  {
   "cell_type": "code",
   "execution_count": null,
   "metadata": {},
   "outputs": [],
   "source": [
    "sep_78 = len(list(d_7)) + len(list(d_8))\n",
    "sep_78"
   ]
  },
  {
   "cell_type": "code",
   "execution_count": null,
   "metadata": {},
   "outputs": [],
   "source": [
    "d_78 = filterfalse(lambda x : '78' not in x, [''.join(str(i).strip(f\"(,)\").replace(',', '').replace(' ', '')) for i in list_5dig])\n",
    "d_87 = filterfalse(lambda x : '87' not in x, [''.join(str(i).strip(f\"(,)\").replace(',', '').replace(' ', '')) for i in list_5dig])"
   ]
  },
  {
   "cell_type": "code",
   "execution_count": null,
   "metadata": {},
   "outputs": [],
   "source": [
    "both_78 = len(list(d_78)) + len(list(d_87))\n",
    "both_78"
   ]
  },
  {
   "cell_type": "code",
   "execution_count": null,
   "metadata": {
    "tags": []
   },
   "outputs": [],
   "source": [
    "sep_78 - both_78"
   ]
  },
  {
   "cell_type": "code",
   "execution_count": null,
   "metadata": {},
   "outputs": [],
   "source": [
    "10**5"
   ]
  },
  {
   "cell_type": "code",
   "execution_count": null,
   "metadata": {},
   "outputs": [],
   "source": [
    "test = (list_5dig[-1])"
   ]
  },
  {
   "cell_type": "code",
   "execution_count": null,
   "metadata": {},
   "outputs": [],
   "source": [
    "print(''.join(str(i).strip(f\"(,)\").replace(',', '').replace(' ', '')))"
   ]
  },
  {
   "cell_type": "code",
   "execution_count": null,
   "metadata": {},
   "outputs": [],
   "source": [
    "[''.join(str(i).strip(f\"(,)\").replace(',', '').replace(' ', '')) for i in list_5dig][0]"
   ]
  },
  {
   "cell_type": "code",
   "execution_count": null,
   "metadata": {},
   "outputs": [],
   "source": [
    "palindromes = filterfalse(lambda x : x[:3] == x[:3], [''.join(str(i).replace(',', '').replace(' ', '').strip('(,)')) for i in list_5dig])"
   ]
  },
  {
   "cell_type": "code",
   "execution_count": null,
   "metadata": {},
   "outputs": [],
   "source": [
    "list(palindromes)[:10]"
   ]
  },
  {
   "cell_type": "code",
   "execution_count": null,
   "metadata": {},
   "outputs": [],
   "source": [
    "x[:3] in x[:3]"
   ]
  },
  {
   "cell_type": "code",
   "execution_count": null,
   "metadata": {},
   "outputs": [],
   "source": [
    "list_5no0 = filterfalse(lambda x : x[0] == '0', [''.join(str(i).replace(',', '').replace(' ', '').strip('(,)')) for i in product(range(0,10), repeat=5)])\n",
    "palindromes = filterfalse(lambda x : x[:3] != x[2:], list_5no0)"
   ]
  },
  {
   "cell_type": "code",
   "execution_count": null,
   "metadata": {},
   "outputs": [],
   "source": [
    "len(list(palindromes))"
   ]
  },
  {
   "cell_type": "code",
   "execution_count": null,
   "metadata": {},
   "outputs": [],
   "source": [
    "# A word that reads the same from left to right and right to left is a palindrome. For example, \"I\", \"noon\" and \"racecar\" are palindromes. In this question, we consider palindromic integers such as 101 and 66. Note that the first digit of an integer cannot be 0.\n",
    "\n",
    "palindromes = []\n",
    "temp = []\n",
    "list_5no0 = list(filterfalse(lambda x : x[0] == '0', [''.join(str(i).replace(',', '').replace(' ', '').strip('(,)')) for i in product(range(0,10), repeat=5)]))\n",
    "palindromes_1 = filterfalse(lambda x : x != x[::-1], list_5no0)\n",
    "palindromes += palindromes_1\n",
    "# temp.append(list(palindromes_1))"
   ]
  },
  {
   "cell_type": "code",
   "execution_count": null,
   "metadata": {},
   "outputs": [],
   "source": [
    "len(palindromes)"
   ]
  },
  {
   "cell_type": "code",
   "execution_count": null,
   "metadata": {},
   "outputs": [],
   "source": [
    "# are even, for example 29192?\n",
    "even = [i for i in palindromes if int(i)%2 == 0]\n",
    "len(even)"
   ]
  },
  {
   "cell_type": "code",
   "execution_count": null,
   "metadata": {},
   "outputs": [],
   "source": [
    "# contain 7 or 8, for example 27172 or 38783?\n",
    "len([i for i in palindromes if '7' in i or '8' in i])"
   ]
  },
  {
   "source": [
    "### 4\n",
    "A password consists of four or five characters, each an upper-case letter, a lower-case letter, or a digit. How many passwords are there if each of the three character types must appear at least once?"
   ],
   "cell_type": "markdown",
   "metadata": {}
  },
  {
   "cell_type": "code",
   "execution_count": null,
   "metadata": {},
   "outputs": [],
   "source": []
  },
  {
   "cell_type": "code",
   "execution_count": null,
   "metadata": {},
   "outputs": [],
   "source": [
    "low = string.ascii_lowercase\n",
    "up = string.ascii_uppercase\n",
    "dig = string.digits"
   ]
  },
  {
   "cell_type": "code",
   "execution_count": null,
   "metadata": {},
   "outputs": [],
   "source": [
    "len(list(product(range(0,10), repeat=7)))"
   ]
  },
  {
   "cell_type": "code",
   "execution_count": null,
   "metadata": {},
   "outputs": [],
   "source": [
    "list(product(range(0,10), repeat=7))[10]"
   ]
  },
  {
   "cell_type": "code",
   "execution_count": null,
   "metadata": {},
   "outputs": [],
   "source": [
    "def start_end(tpl):\n",
    "    # start\n",
    "    if len(set(tpl[0:2])) == 1 or len(set(tpl[-3:-1])) == 1 : return tpl\n",
    "    else : pass"
   ]
  },
  {
   "cell_type": "code",
   "execution_count": 2,
   "metadata": {},
   "outputs": [],
   "source": [
    "# start or end with two identical digits, for example 0012345, 1234511, or 2222222,\n",
    "t51 = list(filterfalse(lambda x : len(set(x[0:2])) != 1 or len(set(x[-3:-1])) != 1, [i for i in product(range(0,10), repeat=7)]))"
   ]
  },
  {
   "cell_type": "code",
   "execution_count": 3,
   "metadata": {},
   "outputs": [
    {
     "output_type": "execute_result",
     "data": {
      "text/plain": [
       "100000"
      ]
     },
     "metadata": {},
     "execution_count": 3
    }
   ],
   "source": [
    "len(t51)"
   ]
  },
  {
   "cell_type": "code",
   "execution_count": 5,
   "metadata": {},
   "outputs": [],
   "source": [
    "t511 = list(filterfalse(lambda x : len(set(x[0:2])) != 1, [i for i in product(range(0,10), repeat=7)]))\n",
    "t512 = list(filterfalse(lambda x : len(set(x[-3:-1])) != 1, [i for i in product(range(0,10), repeat=7)]))"
   ]
  },
  {
   "cell_type": "code",
   "execution_count": 7,
   "metadata": {},
   "outputs": [],
   "source": [
    "t513 = set(t511).symmetric_difference(set(t512))    # union"
   ]
  },
  {
   "cell_type": "code",
   "execution_count": 8,
   "metadata": {},
   "outputs": [
    {
     "output_type": "execute_result",
     "data": {
      "text/plain": [
       "1800000"
      ]
     },
     "metadata": {},
     "execution_count": 8
    }
   ],
   "source": [
    "len(t513)"
   ]
  },
  {
   "cell_type": "code",
   "execution_count": 11,
   "metadata": {},
   "outputs": [],
   "source": [
    "# contain a substring of  5  consecutive digits. For example 0034567, 2567892, or 0123456.\n",
    "t521 = list(filterfalse(lambda x : len(set(x)) < 5, [i for i in product(range(0,10), repeat=7)]))"
   ]
  },
  {
   "cell_type": "code",
   "execution_count": 15,
   "metadata": {},
   "outputs": [
    {
     "output_type": "execute_result",
     "data": {
      "text/plain": [
       "8013600"
      ]
     },
     "metadata": {},
     "execution_count": 15
    }
   ],
   "source": [
    "len(t521)"
   ]
  },
  {
   "cell_type": "code",
   "execution_count": 45,
   "metadata": {},
   "outputs": [
    {
     "output_type": "execute_result",
     "data": {
      "text/plain": [
       "35"
      ]
     },
     "metadata": {},
     "execution_count": 45
    }
   ],
   "source": [
    "t61 = list(combinations_with_replacement(range(1,6), 3))\n",
    "len(t61)"
   ]
  },
  {
   "cell_type": "code",
   "execution_count": 46,
   "metadata": {},
   "outputs": [
    {
     "output_type": "execute_result",
     "data": {
      "text/plain": [
       "[(1, 1, 1),\n",
       " (1, 1, 2),\n",
       " (1, 1, 3),\n",
       " (1, 1, 4),\n",
       " (1, 1, 5),\n",
       " (1, 2, 2),\n",
       " (1, 2, 3),\n",
       " (1, 2, 4),\n",
       " (1, 2, 5),\n",
       " (1, 3, 3),\n",
       " (1, 3, 4),\n",
       " (1, 3, 5),\n",
       " (1, 4, 4),\n",
       " (1, 4, 5),\n",
       " (1, 5, 5),\n",
       " (2, 2, 2),\n",
       " (2, 2, 3),\n",
       " (2, 2, 4),\n",
       " (2, 2, 5),\n",
       " (2, 3, 3),\n",
       " (2, 3, 4),\n",
       " (2, 3, 5),\n",
       " (2, 4, 4),\n",
       " (2, 4, 5),\n",
       " (2, 5, 5),\n",
       " (3, 3, 3),\n",
       " (3, 3, 4),\n",
       " (3, 3, 5),\n",
       " (3, 4, 4),\n",
       " (3, 4, 5),\n",
       " (3, 5, 5),\n",
       " (4, 4, 4),\n",
       " (4, 4, 5),\n",
       " (4, 5, 5),\n",
       " (5, 5, 5)]"
      ]
     },
     "metadata": {},
     "execution_count": 46
    }
   ],
   "source": [
    "t61"
   ]
  },
  {
   "cell_type": "code",
   "execution_count": 36,
   "metadata": {},
   "outputs": [],
   "source": [
    "t62 = list(filterfalse(lambda x: 1 not in x, [i for i in product(range(1,6), repeat=2)]))"
   ]
  },
  {
   "cell_type": "code",
   "execution_count": 37,
   "metadata": {},
   "outputs": [
    {
     "output_type": "execute_result",
     "data": {
      "text/plain": [
       "[(1, 1), (1, 2), (1, 3), (1, 4), (1, 5), (2, 1), (3, 1), (4, 1), (5, 1)]"
      ]
     },
     "metadata": {},
     "execution_count": 37
    }
   ],
   "source": [
    "t62"
   ]
  },
  {
   "cell_type": "code",
   "execution_count": 89,
   "metadata": {},
   "outputs": [
    {
     "output_type": "execute_result",
     "data": {
      "text/plain": [
       "[(1, 1),\n",
       " (1, 2),\n",
       " (1, 3),\n",
       " (1, 4),\n",
       " (1, 5),\n",
       " (2, 1),\n",
       " (2, 2),\n",
       " (2, 3),\n",
       " (2, 4),\n",
       " (2, 5),\n",
       " (3, 1),\n",
       " (3, 2),\n",
       " (3, 3),\n",
       " (3, 4),\n",
       " (3, 5),\n",
       " (4, 1),\n",
       " (4, 2),\n",
       " (4, 3),\n",
       " (4, 4),\n",
       " (4, 5),\n",
       " (5, 1),\n",
       " (5, 2),\n",
       " (5, 3),\n",
       " (5, 4),\n",
       " (5, 5)]"
      ]
     },
     "metadata": {},
     "execution_count": 89
    }
   ],
   "source": [
    "from itertools import combinations \n",
    "from itertools import combinations_with_replacement \n",
    "# list(permutations(range(9), 3))\n",
    "# list(permutations(range(9), 3))\n",
    "# list(combinations_with_replacement(range(9), 3))\n",
    "list(product([1,2,3,4,5], [1,2,3,4,5]))"
   ]
  },
  {
   "cell_type": "code",
   "execution_count": 257,
   "metadata": {},
   "outputs": [
    {
     "output_type": "execute_result",
     "data": {
      "text/plain": [
       "625"
      ]
     },
     "metadata": {},
     "execution_count": 257
    }
   ],
   "source": [
    "# A∩B=∅\n",
    "from itertools import product\n",
    "from itertools import combinations\n",
    "all_6 = list(product(range(1,6), repeat=2)) # product of {1,2,3,4,5} size=2\n",
    "# all_indep = list(combinations(all_6, 2))    # combinations of {(A,B), (A,B)}\n",
    "all_indep = list(product(all_6, repeat=2))\n",
    "len(all_indep)\n",
    "# all_indep"
   ]
  },
  {
   "cell_type": "code",
   "execution_count": 193,
   "metadata": {},
   "outputs": [
    {
     "output_type": "execute_result",
     "data": {
      "text/plain": [
       "325"
      ]
     },
     "metadata": {},
     "execution_count": 193
    }
   ],
   "source": []
  },
  {
   "cell_type": "code",
   "execution_count": 182,
   "metadata": {},
   "outputs": [
    {
     "output_type": "execute_result",
     "data": {
      "text/plain": [
       "243"
      ]
     },
     "metadata": {},
     "execution_count": 182
    }
   ],
   "source": [
    "from math import comb\n",
    "res = 0\n",
    "for n in range(6):\n",
    "    res += comb(5,n) * 2**(5-n)\n",
    "res"
   ]
  },
  {
   "cell_type": "code",
   "execution_count": 158,
   "metadata": {},
   "outputs": [
    {
     "output_type": "execute_result",
     "data": {
      "text/plain": [
       "625"
      ]
     },
     "metadata": {},
     "execution_count": 158
    }
   ],
   "source": [
    "all_6 = list(product([1,2,3,4,5], [1,2,3,4,5]))\n",
    "# list(all_6)\n",
    "len(list(product(all_6, all_6)))"
   ]
  },
  {
   "cell_type": "code",
   "execution_count": 163,
   "metadata": {},
   "outputs": [
    {
     "output_type": "execute_result",
     "data": {
      "text/plain": [
       "'subset with A∩B=1: 369'"
      ]
     },
     "metadata": {},
     "execution_count": 163
    }
   ],
   "source": [
    "# A∩B={1}\n",
    "s_withount_1 = list(product([2,3,4,5], repeat=2))\n",
    "s_withount_1 = set(product(s_withount_1, s_withount_1))\n",
    "s_all = set(product(all_6, all_6))\n",
    "f\"subset with A∩B={1}: {len(s_all.difference(s_withount_1))}\""
   ]
  },
  {
   "cell_type": "code",
   "execution_count": 233,
   "metadata": {},
   "outputs": [
    {
     "output_type": "execute_result",
     "data": {
      "text/plain": [
       "253"
      ]
     },
     "metadata": {},
     "execution_count": 233
    }
   ],
   "source": [
    "# search for A∩B=∅\n",
    "cont_list = []\n",
    "for i in all_indep :\n",
    "    for j in all_indep :\n",
    "        if set(i).isdisjoint(set(j)) == True :\n",
    "            cont_list.append(i)\n",
    "        break\n",
    "len(cont_list)"
   ]
  },
  {
   "cell_type": "code",
   "execution_count": 252,
   "metadata": {},
   "outputs": [
    {
     "output_type": "execute_result",
     "data": {
      "text/plain": [
       "0"
      ]
     },
     "metadata": {},
     "execution_count": 252
    }
   ],
   "source": [
    "# A∩B={1}\n",
    "cont_list = []\n",
    "for i in all_indep :\n",
    "    for j in all_indep :\n",
    "        if set(i).intersection(set(j)) == {1} :\n",
    "            cont_list.append(i)\n",
    "        break\n",
    "len(cont_list)"
   ]
  },
  {
   "cell_type": "code",
   "execution_count": 258,
   "metadata": {},
   "outputs": [
    {
     "output_type": "execute_result",
     "data": {
      "text/plain": [
       "625"
      ]
     },
     "metadata": {},
     "execution_count": 258
    }
   ],
   "source": [
    "# A∩B={1}\n",
    "cont_list = []\n",
    "for i in all_indep :\n",
    "    cond = list(filterfalse(lambda x: set(i).isdisjoint(set(x)) == False, [i for i in all_indep]))\n",
    "    cont_list.append(cond)\n",
    "len(cont_list)"
   ]
  },
  {
   "cell_type": "code",
   "execution_count": 242,
   "metadata": {},
   "outputs": [
    {
     "output_type": "execute_result",
     "data": {
      "text/plain": [
       "{1}"
      ]
     },
     "metadata": {},
     "execution_count": 242
    }
   ],
   "source": [
    "s1 = set([1,1])\n",
    "s2 = set([2,1])\n",
    "s1.intersection(s2)"
   ]
  },
  {
   "cell_type": "code",
   "execution_count": 260,
   "metadata": {},
   "outputs": [
    {
     "output_type": "execute_result",
     "data": {
      "text/plain": [
       "{(1, 2), (2, 2)}"
      ]
     },
     "metadata": {},
     "execution_count": 260
    }
   ],
   "source": [
    "s3 = set([(1, 2), (2, 2)])\n",
    "s4 = set([(1, 3), (1, 3)])\n",
    "s3.difference(s4)"
   ]
  },
  {
   "cell_type": "code",
   "execution_count": 249,
   "metadata": {},
   "outputs": [
    {
     "output_type": "stream",
     "name": "stdout",
     "text": [
      "1  :  set() set()\n2  :  set() {0}\n3  :  set() {1}\n4  :  set() {2}\n5  :  set() {3}\n6  :  set() {4}\n7  :  set() {0, 1}\n8  :  set() {0, 2}\n9  :  set() {0, 3}\n10  :  set() {0, 4}\n11  :  set() {1, 2}\n12  :  set() {1, 3}\n13  :  set() {1, 4}\n14  :  set() {2, 3}\n15  :  set() {2, 4}\n16  :  set() {3, 4}\n17  :  set() {0, 1, 2}\n18  :  set() {0, 1, 3}\n19  :  set() {0, 1, 4}\n20  :  set() {0, 2, 3}\n21  :  set() {0, 2, 4}\n22  :  set() {0, 3, 4}\n23  :  set() {1, 2, 3}\n24  :  set() {1, 2, 4}\n25  :  set() {1, 3, 4}\n26  :  set() {2, 3, 4}\n27  :  set() {0, 1, 2, 3}\n28  :  set() {0, 1, 2, 4}\n29  :  set() {0, 1, 3, 4}\n30  :  set() {0, 2, 3, 4}\n31  :  set() {1, 2, 3, 4}\n32  :  set() {0, 1, 2, 3, 4}\n33  :  {0} set()\n34  :  {0} {1}\n35  :  {0} {2}\n36  :  {0} {3}\n37  :  {0} {4}\n38  :  {0} {1, 2}\n39  :  {0} {1, 3}\n40  :  {0} {1, 4}\n41  :  {0} {2, 3}\n42  :  {0} {2, 4}\n43  :  {0} {3, 4}\n44  :  {0} {1, 2, 3}\n45  :  {0} {1, 2, 4}\n46  :  {0} {1, 3, 4}\n47  :  {0} {2, 3, 4}\n48  :  {0} {1, 2, 3, 4}\n49  :  {1} set()\n50  :  {1} {0}\n51  :  {1} {2}\n52  :  {1} {3}\n53  :  {1} {4}\n54  :  {1} {0, 2}\n55  :  {1} {0, 3}\n56  :  {1} {0, 4}\n57  :  {1} {2, 3}\n58  :  {1} {2, 4}\n59  :  {1} {3, 4}\n60  :  {1} {0, 2, 3}\n61  :  {1} {0, 2, 4}\n62  :  {1} {0, 3, 4}\n63  :  {1} {2, 3, 4}\n64  :  {1} {0, 2, 3, 4}\n65  :  {2} set()\n66  :  {2} {0}\n67  :  {2} {1}\n68  :  {2} {3}\n69  :  {2} {4}\n70  :  {2} {0, 1}\n71  :  {2} {0, 3}\n72  :  {2} {0, 4}\n73  :  {2} {1, 3}\n74  :  {2} {1, 4}\n75  :  {2} {3, 4}\n76  :  {2} {0, 1, 3}\n77  :  {2} {0, 1, 4}\n78  :  {2} {0, 3, 4}\n79  :  {2} {1, 3, 4}\n80  :  {2} {0, 1, 3, 4}\n81  :  {3} set()\n82  :  {3} {0}\n83  :  {3} {1}\n84  :  {3} {2}\n85  :  {3} {4}\n86  :  {3} {0, 1}\n87  :  {3} {0, 2}\n88  :  {3} {0, 4}\n89  :  {3} {1, 2}\n90  :  {3} {1, 4}\n91  :  {3} {2, 4}\n92  :  {3} {0, 1, 2}\n93  :  {3} {0, 1, 4}\n94  :  {3} {0, 2, 4}\n95  :  {3} {1, 2, 4}\n96  :  {3} {0, 1, 2, 4}\n97  :  {4} set()\n98  :  {4} {0}\n99  :  {4} {1}\n100  :  {4} {2}\n101  :  {4} {3}\n102  :  {4} {0, 1}\n103  :  {4} {0, 2}\n104  :  {4} {0, 3}\n105  :  {4} {1, 2}\n106  :  {4} {1, 3}\n107  :  {4} {2, 3}\n108  :  {4} {0, 1, 2}\n109  :  {4} {0, 1, 3}\n110  :  {4} {0, 2, 3}\n111  :  {4} {1, 2, 3}\n112  :  {4} {0, 1, 2, 3}\n113  :  {0, 1} set()\n114  :  {0, 1} {2}\n115  :  {0, 1} {3}\n116  :  {0, 1} {4}\n117  :  {0, 1} {2, 3}\n118  :  {0, 1} {2, 4}\n119  :  {0, 1} {3, 4}\n120  :  {0, 1} {2, 3, 4}\n121  :  {0, 2} set()\n122  :  {0, 2} {1}\n123  :  {0, 2} {3}\n124  :  {0, 2} {4}\n125  :  {0, 2} {1, 3}\n126  :  {0, 2} {1, 4}\n127  :  {0, 2} {3, 4}\n128  :  {0, 2} {1, 3, 4}\n129  :  {0, 3} set()\n130  :  {0, 3} {1}\n131  :  {0, 3} {2}\n132  :  {0, 3} {4}\n133  :  {0, 3} {1, 2}\n134  :  {0, 3} {1, 4}\n135  :  {0, 3} {2, 4}\n136  :  {0, 3} {1, 2, 4}\n137  :  {0, 4} set()\n138  :  {0, 4} {1}\n139  :  {0, 4} {2}\n140  :  {0, 4} {3}\n141  :  {0, 4} {1, 2}\n142  :  {0, 4} {1, 3}\n143  :  {0, 4} {2, 3}\n144  :  {0, 4} {1, 2, 3}\n145  :  {1, 2} set()\n146  :  {1, 2} {0}\n147  :  {1, 2} {3}\n148  :  {1, 2} {4}\n149  :  {1, 2} {0, 3}\n150  :  {1, 2} {0, 4}\n151  :  {1, 2} {3, 4}\n152  :  {1, 2} {0, 3, 4}\n153  :  {1, 3} set()\n154  :  {1, 3} {0}\n155  :  {1, 3} {2}\n156  :  {1, 3} {4}\n157  :  {1, 3} {0, 2}\n158  :  {1, 3} {0, 4}\n159  :  {1, 3} {2, 4}\n160  :  {1, 3} {0, 2, 4}\n161  :  {1, 4} set()\n162  :  {1, 4} {0}\n163  :  {1, 4} {2}\n164  :  {1, 4} {3}\n165  :  {1, 4} {0, 2}\n166  :  {1, 4} {0, 3}\n167  :  {1, 4} {2, 3}\n168  :  {1, 4} {0, 2, 3}\n169  :  {2, 3} set()\n170  :  {2, 3} {0}\n171  :  {2, 3} {1}\n172  :  {2, 3} {4}\n173  :  {2, 3} {0, 1}\n174  :  {2, 3} {0, 4}\n175  :  {2, 3} {1, 4}\n176  :  {2, 3} {0, 1, 4}\n177  :  {2, 4} set()\n178  :  {2, 4} {0}\n179  :  {2, 4} {1}\n180  :  {2, 4} {3}\n181  :  {2, 4} {0, 1}\n182  :  {2, 4} {0, 3}\n183  :  {2, 4} {1, 3}\n184  :  {2, 4} {0, 1, 3}\n185  :  {3, 4} set()\n186  :  {3, 4} {0}\n187  :  {3, 4} {1}\n188  :  {3, 4} {2}\n189  :  {3, 4} {0, 1}\n190  :  {3, 4} {0, 2}\n191  :  {3, 4} {1, 2}\n192  :  {3, 4} {0, 1, 2}\n193  :  {0, 1, 2} set()\n194  :  {0, 1, 2} {3}\n195  :  {0, 1, 2} {4}\n196  :  {0, 1, 2} {3, 4}\n197  :  {0, 1, 3} set()\n198  :  {0, 1, 3} {2}\n199  :  {0, 1, 3} {4}\n200  :  {0, 1, 3} {2, 4}\n201  :  {0, 1, 4} set()\n202  :  {0, 1, 4} {2}\n203  :  {0, 1, 4} {3}\n204  :  {0, 1, 4} {2, 3}\n205  :  {0, 2, 3} set()\n206  :  {0, 2, 3} {1}\n207  :  {0, 2, 3} {4}\n208  :  {0, 2, 3} {1, 4}\n209  :  {0, 2, 4} set()\n210  :  {0, 2, 4} {1}\n211  :  {0, 2, 4} {3}\n212  :  {0, 2, 4} {1, 3}\n213  :  {0, 3, 4} set()\n214  :  {0, 3, 4} {1}\n215  :  {0, 3, 4} {2}\n216  :  {0, 3, 4} {1, 2}\n217  :  {1, 2, 3} set()\n218  :  {1, 2, 3} {0}\n219  :  {1, 2, 3} {4}\n220  :  {1, 2, 3} {0, 4}\n221  :  {1, 2, 4} set()\n222  :  {1, 2, 4} {0}\n223  :  {1, 2, 4} {3}\n224  :  {1, 2, 4} {0, 3}\n225  :  {1, 3, 4} set()\n226  :  {1, 3, 4} {0}\n227  :  {1, 3, 4} {2}\n228  :  {1, 3, 4} {0, 2}\n229  :  {2, 3, 4} set()\n230  :  {2, 3, 4} {0}\n231  :  {2, 3, 4} {1}\n232  :  {2, 3, 4} {0, 1}\n233  :  {0, 1, 2, 3} set()\n234  :  {0, 1, 2, 3} {4}\n235  :  {0, 1, 2, 4} set()\n236  :  {0, 1, 2, 4} {3}\n237  :  {0, 1, 3, 4} set()\n238  :  {0, 1, 3, 4} {2}\n239  :  {0, 2, 3, 4} set()\n240  :  {0, 2, 3, 4} {1}\n241  :  {1, 2, 3, 4} set()\n242  :  {1, 2, 3, 4} {0}\n243  :  {0, 1, 2, 3, 4} set()\n"
     ]
    }
   ],
   "source": [
    "from itertools import combinations\n",
    "S = set(range(5))\n",
    "i = 1\n",
    "for n in range(6):\n",
    "  for a in combinations(S, n):\n",
    "    a = set(a)\n",
    "    a_complement = S - a\n",
    "    for m in range(6 - n):\n",
    "      for b in combinations(a_complement, m):\n",
    "        b = set(b)\n",
    "        print(i, \" : \", a, b)\n",
    "        i += 1"
   ]
  },
  {
   "cell_type": "code",
   "execution_count": 205,
   "metadata": {},
   "outputs": [],
   "source": [
    "# cont_list"
   ]
  },
  {
   "cell_type": "code",
   "execution_count": 81,
   "metadata": {},
   "outputs": [
    {
     "output_type": "stream",
     "name": "stdout",
     "text": [
      "for size two of range(1,6): 25\n"
     ]
    }
   ],
   "source": [
    "print(f\"for size two of range(1,6): {len(list(product(range(1,6), repeat=2)))}\")"
   ]
  },
  {
   "cell_type": "code",
   "execution_count": 85,
   "metadata": {},
   "outputs": [
    {
     "output_type": "execute_result",
     "data": {
      "text/plain": [
       "[(1, 1),\n",
       " (1, 2),\n",
       " (1, 3),\n",
       " (1, 4),\n",
       " (1, 5),\n",
       " (2, 1),\n",
       " (2, 2),\n",
       " (2, 3),\n",
       " (2, 4),\n",
       " (2, 5),\n",
       " (3, 1),\n",
       " (3, 2),\n",
       " (3, 3),\n",
       " (3, 4),\n",
       " (3, 5),\n",
       " (4, 1),\n",
       " (4, 2),\n",
       " (4, 3),\n",
       " (4, 4),\n",
       " (4, 5),\n",
       " (5, 1),\n",
       " (5, 2),\n",
       " (5, 3),\n",
       " (5, 4),\n",
       " (5, 5)]"
      ]
     },
     "metadata": {},
     "execution_count": 85
    }
   ],
   "source": [
    "list(filterfalse(lambda x: set(x).isdisjoint(), product(range(1,6), repeat=2)))"
   ]
  },
  {
   "cell_type": "code",
   "execution_count": 74,
   "metadata": {},
   "outputs": [
    {
     "output_type": "execute_result",
     "data": {
      "text/plain": [
       "['__and__',\n",
       " '__class__',\n",
       " '__contains__',\n",
       " '__delattr__',\n",
       " '__dir__',\n",
       " '__doc__',\n",
       " '__eq__',\n",
       " '__format__',\n",
       " '__ge__',\n",
       " '__getattribute__',\n",
       " '__gt__',\n",
       " '__hash__',\n",
       " '__iand__',\n",
       " '__init__',\n",
       " '__init_subclass__',\n",
       " '__ior__',\n",
       " '__isub__',\n",
       " '__iter__',\n",
       " '__ixor__',\n",
       " '__le__',\n",
       " '__len__',\n",
       " '__lt__',\n",
       " '__ne__',\n",
       " '__new__',\n",
       " '__or__',\n",
       " '__rand__',\n",
       " '__reduce__',\n",
       " '__reduce_ex__',\n",
       " '__repr__',\n",
       " '__ror__',\n",
       " '__rsub__',\n",
       " '__rxor__',\n",
       " '__setattr__',\n",
       " '__sizeof__',\n",
       " '__str__',\n",
       " '__sub__',\n",
       " '__subclasshook__',\n",
       " '__xor__',\n",
       " 'add',\n",
       " 'clear',\n",
       " 'copy',\n",
       " 'difference',\n",
       " 'difference_update',\n",
       " 'discard',\n",
       " 'intersection',\n",
       " 'intersection_update',\n",
       " 'isdisjoint',\n",
       " 'issubset',\n",
       " 'issuperset',\n",
       " 'pop',\n",
       " 'remove',\n",
       " 'symmetric_difference',\n",
       " 'symmetric_difference_update',\n",
       " 'union',\n",
       " 'update']"
      ]
     },
     "metadata": {},
     "execution_count": 74
    }
   ],
   "source": [
    "dir(set)"
   ]
  },
  {
   "cell_type": "code",
   "execution_count": 235,
   "metadata": {},
   "outputs": [
    {
     "output_type": "stream",
     "text": [
      "\u001b[1;31mDocstring:\u001b[0m\n",
      "Return the intersection of two sets as a new set.\n",
      "\n",
      "(i.e. all elements that are in both sets.)\n",
      "\u001b[1;31mType:\u001b[0m      method_descriptor\n"
     ],
     "name": "stdout"
    }
   ],
   "source": [
    "set.intersection?"
   ]
  },
  {
   "cell_type": "code",
   "execution_count": null,
   "metadata": {},
   "outputs": [],
   "source": []
  }
 ]
}